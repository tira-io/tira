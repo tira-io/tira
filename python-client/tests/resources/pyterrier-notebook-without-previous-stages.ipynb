{
 "cells": [
  {
   "cell_type": "markdown",
   "metadata": {},
   "source": [
    "# PyTerrier Notebook for Full-Rank Submissions"
   ]
  },
  {
   "cell_type": "code",
   "execution_count": 13,
   "metadata": {},
   "outputs": [
    {
     "name": "stdout",
     "output_type": "stream",
     "text": [
      "Requirement already satisfied: python-terrier in /opt/conda/lib/python3.7/site-packages (0.9.2)\n",
      "Requirement already satisfied: tira in /opt/conda/lib/python3.7/site-packages (0.0.54)\n",
      "Requirement already satisfied: ir_datasets in /opt/conda/lib/python3.7/site-packages (0.5.4)\n",
      "Requirement already satisfied: pytrec-eval-terrier>=0.5.3 in /opt/conda/lib/python3.7/site-packages (from python-terrier) (0.5.5)\n",
      "Requirement already satisfied: more-itertools in /opt/conda/lib/python3.7/site-packages (from python-terrier) (9.0.0)\n",
      "Requirement already satisfied: wget in /opt/conda/lib/python3.7/site-packages (from python-terrier) (3.2)\n",
      "Requirement already satisfied: nptyping==1.4.4 in /opt/conda/lib/python3.7/site-packages (from python-terrier) (1.4.4)\n",
      "Requirement already satisfied: numpy in /opt/conda/lib/python3.7/site-packages (from python-terrier) (1.21.5)\n",
      "Requirement already satisfied: requests in /opt/conda/lib/python3.7/site-packages (from python-terrier) (2.28.1)\n",
      "Requirement already satisfied: jinja2 in /opt/conda/lib/python3.7/site-packages (from python-terrier) (3.1.2)\n",
      "Requirement already satisfied: tqdm in /opt/conda/lib/python3.7/site-packages (from python-terrier) (4.63.0)\n",
      "Requirement already satisfied: pandas in /opt/conda/lib/python3.7/site-packages (from python-terrier) (1.3.5)\n",
      "Requirement already satisfied: scikit-learn in /opt/conda/lib/python3.7/site-packages (from python-terrier) (1.0.2)\n",
      "Requirement already satisfied: statsmodels in /opt/conda/lib/python3.7/site-packages (from python-terrier) (0.13.5)\n",
      "Requirement already satisfied: ir-measures>=0.3.1 in /opt/conda/lib/python3.7/site-packages (from python-terrier) (0.3.1)\n",
      "Requirement already satisfied: chest in /opt/conda/lib/python3.7/site-packages (from python-terrier) (0.2.3)\n",
      "Requirement already satisfied: deprecated in /opt/conda/lib/python3.7/site-packages (from python-terrier) (1.2.13)\n",
      "Requirement already satisfied: joblib in /opt/conda/lib/python3.7/site-packages (from python-terrier) (1.2.0)\n",
      "Requirement already satisfied: scipy in /opt/conda/lib/python3.7/site-packages (from python-terrier) (1.7.3)\n",
      "Requirement already satisfied: matchpy in /opt/conda/lib/python3.7/site-packages (from python-terrier) (0.5.5)\n",
      "Requirement already satisfied: dill in /opt/conda/lib/python3.7/site-packages (from python-terrier) (0.3.6)\n",
      "Requirement already satisfied: pyjnius>=1.4.2 in /opt/conda/lib/python3.7/site-packages (from python-terrier) (1.4.2)\n",
      "Requirement already satisfied: typish>=1.7.0 in /opt/conda/lib/python3.7/site-packages (from nptyping==1.4.4->python-terrier) (1.9.3)\n",
      "Requirement already satisfied: docker==6.*,>=6.0.0 in /opt/conda/lib/python3.7/site-packages (from tira) (6.0.1)\n",
      "Requirement already satisfied: packaging>=14.0 in /opt/conda/lib/python3.7/site-packages (from docker==6.*,>=6.0.0->tira) (22.0)\n",
      "Requirement already satisfied: websocket-client>=0.32.0 in /opt/conda/lib/python3.7/site-packages (from docker==6.*,>=6.0.0->tira) (1.4.2)\n",
      "Requirement already satisfied: urllib3>=1.26.0 in /opt/conda/lib/python3.7/site-packages (from docker==6.*,>=6.0.0->tira) (1.26.8)\n",
      "Requirement already satisfied: idna<4,>=2.5 in /opt/conda/lib/python3.7/site-packages (from requests->python-terrier) (3.3)\n",
      "Requirement already satisfied: charset-normalizer<3,>=2 in /opt/conda/lib/python3.7/site-packages (from requests->python-terrier) (2.0.4)\n",
      "Requirement already satisfied: certifi>=2017.4.17 in /opt/conda/lib/python3.7/site-packages (from requests->python-terrier) (2022.6.15)\n",
      "Requirement already satisfied: warc3-wet-clueweb09>=0.2.5 in /opt/conda/lib/python3.7/site-packages (from ir_datasets) (0.2.5)\n",
      "Requirement already satisfied: pyautocorpus>=0.1.1 in /opt/conda/lib/python3.7/site-packages (from ir_datasets) (0.1.9)\n",
      "Requirement already satisfied: lxml>=4.5.2 in /opt/conda/lib/python3.7/site-packages (from ir_datasets) (4.9.2)\n",
      "Requirement already satisfied: beautifulsoup4>=4.4.1 in /opt/conda/lib/python3.7/site-packages (from ir_datasets) (4.11.1)\n",
      "Requirement already satisfied: zlib-state>=0.1.3 in /opt/conda/lib/python3.7/site-packages (from ir_datasets) (0.1.5)\n",
      "Requirement already satisfied: pyyaml>=5.3.1 in /opt/conda/lib/python3.7/site-packages (from ir_datasets) (6.0)\n",
      "Requirement already satisfied: ijson>=3.1.3 in /opt/conda/lib/python3.7/site-packages (from ir_datasets) (3.2.0.post0)\n",
      "Requirement already satisfied: lz4>=3.1.1 in /opt/conda/lib/python3.7/site-packages (from ir_datasets) (4.3.2)\n",
      "Requirement already satisfied: trec-car-tools>=2.5.4 in /opt/conda/lib/python3.7/site-packages (from ir_datasets) (2.6)\n",
      "Requirement already satisfied: warc3-wet>=0.2.3 in /opt/conda/lib/python3.7/site-packages (from ir_datasets) (0.2.3)\n",
      "Requirement already satisfied: unlzw3>=0.2.1 in /opt/conda/lib/python3.7/site-packages (from ir_datasets) (0.2.2)\n",
      "Requirement already satisfied: soupsieve>1.2 in /opt/conda/lib/python3.7/site-packages (from beautifulsoup4>=4.4.1->ir_datasets) (2.3.1)\n",
      "Requirement already satisfied: cwl-eval>=1.0.10 in /opt/conda/lib/python3.7/site-packages (from ir-measures>=0.3.1->python-terrier) (1.0.12)\n",
      "Requirement already satisfied: six>=1.7.0 in /opt/conda/lib/python3.7/site-packages (from pyjnius>=1.4.2->python-terrier) (1.16.0)\n",
      "Requirement already satisfied: cbor>=1.0.0 in /opt/conda/lib/python3.7/site-packages (from trec-car-tools>=2.5.4->ir_datasets) (1.0.0)\n",
      "Requirement already satisfied: heapdict in /opt/conda/lib/python3.7/site-packages (from chest->python-terrier) (1.0.1)\n",
      "Requirement already satisfied: wrapt<2,>=1.10 in /opt/conda/lib/python3.7/site-packages (from deprecated->python-terrier) (1.14.1)\n",
      "Requirement already satisfied: MarkupSafe>=2.0 in /opt/conda/lib/python3.7/site-packages (from jinja2->python-terrier) (2.0.1)\n",
      "Requirement already satisfied: multiset<3.0,>=2.0 in /opt/conda/lib/python3.7/site-packages (from matchpy->python-terrier) (2.1.1)\n",
      "Requirement already satisfied: python-dateutil>=2.7.3 in /opt/conda/lib/python3.7/site-packages (from pandas->python-terrier) (2.8.2)\n",
      "Requirement already satisfied: pytz>=2017.3 in /opt/conda/lib/python3.7/site-packages (from pandas->python-terrier) (2022.1)\n",
      "Requirement already satisfied: threadpoolctl>=2.0.0 in /opt/conda/lib/python3.7/site-packages (from scikit-learn->python-terrier) (3.1.0)\n",
      "Requirement already satisfied: patsy>=0.5.2 in /opt/conda/lib/python3.7/site-packages (from statsmodels->python-terrier) (0.5.3)\n",
      "\u001b[33mWARNING: Running pip as the 'root' user can result in broken permissions and conflicting behaviour with the system package manager. It is recommended to use a virtual environment instead: https://pip.pypa.io/warnings/venv\u001b[0m\n",
      "Reading package lists... Done\n",
      "Building dependency tree       \n",
      "Reading state information... Done\n",
      "Package ping is a virtual package provided by:\n",
      "  inetutils-ping 2:1.9.4-3ubuntu0.1\n",
      "  iputils-ping 3:20161105-1ubuntu3\n",
      "You should explicitly select one to install.\n",
      "\n",
      "E: Package 'ping' has no installation candidate\n"
     ]
    }
   ],
   "source": [
    "import os\n",
    "\n",
    "# Detect if we are in the TIRA sandbox\n",
    "# Install the required dependencies if we are not in the sandbox.\n",
    "if 'TIRA_DATASET_ID' not in os.environ:\n",
    "    !pip3 install python-terrier tira ir_datasets\n",
    "    !apt-get install ping\n",
    "else:\n",
    "    print('We are in the TIRA sandbox.')\n",
    "    "
   ]
  },
  {
   "cell_type": "code",
   "execution_count": 2,
   "metadata": {},
   "outputs": [
    {
     "name": "stdout",
     "output_type": "stream",
     "text": [
      "Start PyTerrier with version=5.7, helper_version=0.0.7, no_download=True\n"
     ]
    },
    {
     "name": "stderr",
     "output_type": "stream",
     "text": [
      "PyTerrier 0.9.2 has loaded Terrier 5.7 (built by craigm on 2022-11-10 18:30) and terrier-helper 0.0.7\n",
      "\n",
      "No etc/terrier.properties, using terrier.default.properties for bootstrap configuration.\n"
     ]
    }
   ],
   "source": [
    "from tira.third_party_integrations import ir_datasets, ensure_pyterrier_is_loaded, persist_and_normalize_run\n",
    "\n",
    "# this loads and starts pyterrier so that it also works in the TIRA\n",
    "ensure_pyterrier_is_loaded()\n",
    "\n",
    "# PyTerrier must be imported after the call to ensure_pyterrier_is_loaded in TIRA.\n",
    "import pyterrier as pt\n",
    "\n",
    "# For more detiled outputs\n",
    "import logging\n",
    "logging.basicConfig(level=logging.DEBUG)"
   ]
  },
  {
   "cell_type": "code",
   "execution_count": 3,
   "metadata": {},
   "outputs": [],
   "source": [
    "data = ir_datasets.load('cranfield')"
   ]
  },
  {
   "cell_type": "code",
   "execution_count": 4,
   "metadata": {},
   "outputs": [
    {
     "name": "stderr",
     "output_type": "stream",
     "text": [
      "[INFO] [starting] http://ir.dcs.gla.ac.uk/resources/test_collections/cran/cran.tar.gz\n",
      "[INFO] [finished] http://ir.dcs.gla.ac.uk/resources/test_collections/cran/cran.tar.gz: [00:00] [507kB] [2.07MB/s]\n",
      "                                                                                               "
     ]
    },
    {
     "name": "stdout",
     "output_type": "stream",
     "text": [
      "[GenericQuery(query_id='1', text='what similarity laws must be obeyed when constructing aeroelastic models\\nof heated high speed aircraft .'), GenericQuery(query_id='2', text='what are the structural and aeroelastic problems associated with flight\\nof high speed aircraft .'), GenericQuery(query_id='4', text='what problems of heat conduction in composite slabs have been solved so\\nfar .')]\n"
     ]
    },
    {
     "name": "stderr",
     "output_type": "stream",
     "text": [
      "\r"
     ]
    }
   ],
   "source": [
    "print([i for i in data.queries_iter()][:3])"
   ]
  },
  {
   "cell_type": "code",
   "execution_count": 5,
   "metadata": {},
   "outputs": [
    {
     "data": {
      "text/plain": [
       "CranfieldDoc(doc_id='1', title='experimental investigation of the aerodynamics of a\\nwing in a slipstream .', text='experimental investigation of the aerodynamics of a\\nwing in a slipstream .\\n  an experimental study of a wing in a propeller slipstream was\\nmade in order to determine the spanwise distribution of the lift\\nincrease due to slipstream at different angles of attack of the wing\\nand at different free stream to slipstream velocity ratios .  the\\nresults were intended in part as an evaluation basis for different\\ntheoretical treatments of this problem .\\n  the comparative span loading curves, together with\\nsupporting evidence, showed that a substantial part of the lift increment\\nproduced by the slipstream was due to a /destalling/ or\\nboundary-layer-control effect .  the integrated remaining lift\\nincrement, after subtracting this destalling lift, was found to agree\\nwell with a potential flow theory .\\n  an empirical evaluation of the destalling effects was made for\\nthe specific configuration of the experiment .', author='brenckman,m.', bib='j. ae. scs. 25, 1958, 324.')"
      ]
     },
     "execution_count": 5,
     "metadata": {},
     "output_type": "execute_result"
    }
   ],
   "source": [
    "data.docs_iter().__next__()"
   ]
  },
  {
   "cell_type": "code",
   "execution_count": 6,
   "metadata": {},
   "outputs": [
    {
     "name": "stdout",
     "output_type": "stream",
     "text": [
      "12:23:07.841 [ForkJoinPool-1-worker-3] WARN org.terrier.structures.indexing.Indexer - Adding an empty document to the index (471) - further warnings are suppressed\n",
      "12:23:09.347 [ForkJoinPool-1-worker-3] WARN org.terrier.structures.indexing.Indexer - Indexed 2 empty documents\n"
     ]
    }
   ],
   "source": [
    "iter_indexer = pt.IterDictIndexer(\"./index\", meta={'docno': 100})\n",
    "!rm -Rf index\n",
    "indexref = iter_indexer.index({'docno': i.doc_id, 'text': i.text} for i in data.docs_iter())"
   ]
  },
  {
   "cell_type": "code",
   "execution_count": 7,
   "metadata": {},
   "outputs": [],
   "source": [
    "pt_data = pt.get_dataset('irds:cranfield')\n",
    "\n",
    "bm25 = pt.BatchRetrieve(indexref, wmodel=\"BM25\")"
   ]
  },
  {
   "cell_type": "code",
   "execution_count": 8,
   "metadata": {},
   "outputs": [
    {
     "name": "stderr",
     "output_type": "stream",
     "text": [
      "BR(BM25):   0%|          | 0/225 [00:00<?, ?q/s]"
     ]
    },
    {
     "name": "stderr",
     "output_type": "stream",
     "text": [
      "BR(BM25): 100%|██████████| 225/225 [00:05<00:00, 40.05q/s]\n"
     ]
    }
   ],
   "source": [
    "run = bm25(pt_data.get_topics())"
   ]
  },
  {
   "cell_type": "code",
   "execution_count": 9,
   "metadata": {},
   "outputs": [
    {
     "name": "stdout",
     "output_type": "stream",
     "text": [
      "I use the environment variable \"TIRA_OUTPUT_DIRECTORY\" to determine where I should store the run file using \".\" as default.\n",
      "Done. run file is stored under \"./run.txt\".\n"
     ]
    }
   ],
   "source": [
    "persist_and_normalize_run(run, 'bm25-by-team-xyz')"
   ]
  }
 ],
 "metadata": {
  "kernelspec": {
   "display_name": "base",
   "language": "python",
   "name": "python3"
  },
  "language_info": {
   "codemirror_mode": {
    "name": "ipython",
    "version": 3
   },
   "file_extension": ".py",
   "mimetype": "text/x-python",
   "name": "python",
   "nbconvert_exporter": "python",
   "pygments_lexer": "ipython3",
   "version": "3.7.13"
  },
  "orig_nbformat": 4
 },
 "nbformat": 4,
 "nbformat_minor": 2
}

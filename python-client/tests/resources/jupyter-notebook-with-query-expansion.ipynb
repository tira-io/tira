{
 "cells": [
  {
   "cell_type": "code",
   "execution_count": 7,
   "metadata": {},
   "outputs": [],
   "source": [
    "from tira.third_party_integrations import ensure_pyterrier_is_loaded, persist_and_normalize_run\n",
    "from tira.rest_api_client import Client\n",
    "import pyterrier as pt\n",
    "\n",
    "# Create a REST client to the TIRA platform for retrieving the pre-indexed data.\n",
    "ensure_pyterrier_is_loaded()\n",
    "tira = Client()\n",
    "\n",
    "# The dataset: the union of the IR Anthology and the ACL Anthology\n",
    "# This line creates an IRDSDataset object and registers it under the name provided as an argument.\n",
    "dataset = 'ir-acl-anthology-20240504-training'\n",
    "pt_dataset = pt.get_dataset('irds:ir-lab-sose-2024/ir-acl-anthology-20240504-training')\n",
    "\n",
    "\n",
    "# A (pre-built) PyTerrier index loaded from TIRA\n",
    "index = tira.pt.index('ir-lab-sose-2024/tira-ir-starter/Index (tira-ir-starter-pyterrier)', pt_dataset)\n",
    "\n",
    "bm25 = pt.BatchRetrieve(index, wmodel=\"BM25\")"
   ]
  },
  {
   "cell_type": "code",
   "execution_count": 13,
   "metadata": {},
   "outputs": [],
   "source": [
    "# qe = pt.rewrite.Bo1QueryExpansion(index)\n",
    "# qe_2 = pt.rewrite.KLQueryExpansion(index)\n",
    "# qe_3 = pt.rewrite.RM3(index)\n",
    "# qe_4 = pt.rewrite.Bo1QueryExpansion(index, fb_terms=20)\n",
    "\n",
    "# gpt_cot = tira.pt.transform_queries('workshop-on-open-web-search/tu-dresden-03/qe-gpt3.5-cot', dataset, prefix='llm_expansion_')\n",
    "# gpt_sq_fs = tira.pt.transform_queries('workshop-on-open-web-search/tu-dresden-03/qe-gpt3.5-sq-fs', dataset, prefix='llm_expansion_')\n",
    "gpt_sq_zs = tira.pt.transform_queries('ir-benchmarks/tu-dresden-03/qe-gpt3.5-sq-zs', dataset, prefix='llm_expansion_')\n",
    "\n",
    "# llama_cot = tira.pt.transform_queries('ir-benchmarks/tu-dresden-03/qe-llama-cot', dataset, prefix='llm_expansion_')\n",
    "# llama_sq_fs = tira.pt.transform_queries('ir-benchmarks/tu-dresden-03/qe-llama-sq-fs', dataset, prefix='llm_expansion_')\n",
    "# llama_sq_zs = tira.pt.transform_queries('ir-benchmarks/tu-dresden-03/qe-llama-sq-zs', dataset, prefix='llm_expansion_')\n",
    "\n",
    "# flan_cot = tira.pt.transform_queries('ir-benchmarks/tu-dresden-03/qe-flan-ul2-cot', dataset, prefix='llm_expansion_')\n",
    "# flan_sq_fs = tira.pt.transform_queries('ir-benchmarks/tu-dresden-03/qe-flan-ul2-sq-fs', dataset, prefix='llm_expansion_')\n",
    "# flan_sq_zs = tira.pt.transform_queries('ir-benchmarks/tu-dresden-03/qe-flan-ul2-sq-zs', dataset, prefix='llm_expansion_')"
   ]
  },
  {
   "cell_type": "code",
   "execution_count": 14,
   "metadata": {},
   "outputs": [],
   "source": [
    "tokeniser = pt.autoclass(\"org.terrier.indexing.tokenisation.Tokeniser\").getTokeniser()\n",
    "\n",
    "def pt_tokenize(text):\n",
    "    return ' '.join(tokeniser.getTokens(text))\n",
    "\n",
    "def expand_query(topic):\n",
    "  ret = ' '.join([topic['query'], topic['query'], topic['query'],  topic['query'],  topic['query'], topic['llm_expansion_query']])\n",
    "\n",
    "  # apply the tokenization\n",
    "  return pt_tokenize(ret)\n",
    "\n",
    "pt_expand_query = pt.apply.query(expand_query)"
   ]
  },
  {
   "cell_type": "code",
   "execution_count": 15,
   "metadata": {},
   "outputs": [],
   "source": [
    "# qe_pipeline = bm25 >> qe >> bm25\n",
    "# qe_pipeline_2 = bm25 >> qe_2 >> bm25\n",
    "# qe_pipeline_3 = bm25 >> qe_3 >> bm25\n",
    "# qe_pipeline_4 = bm25 >> qe_4 >> bm25\n",
    "\n",
    "# pipeline_gpt_cot = (gpt_cot >> pt_expand_query) >> bm25\n",
    "# pipeline_gpt_sq_fs = (gpt_sq_fs >> pt_expand_query) >> bm25\n",
    "pipeline_gpt_sq_zs = (gpt_sq_zs >> pt_expand_query) >> bm25\n",
    "\n",
    "# pipeline_llama_cot = (llama_cot >> pt_expand_query) >> bm25\n",
    "# pipeline_llama_sq_fs = (llama_sq_fs >> pt_expand_query) >> bm25\n",
    "# pipeline_llama_sq_zs = (llama_sq_zs >> pt_expand_query) >> bm25\n",
    "\n",
    "# pipeline_flan_cot = (flan_cot >> pt_expand_query) >> bm25\n",
    "# pipeline_flan_sq_fs = (flan_sq_fs >> pt_expand_query) >> bm25\n",
    "# pipeline_flan_sq_zs = (flan_sq_zs >> pt_expand_query) >> bm25"
   ]
  },
  {
   "cell_type": "code",
   "execution_count": 16,
   "metadata": {},
   "outputs": [],
   "source": [
    "# run_base = bm25(pt_dataset.get_topics('text'))\n",
    "\n",
    "# run_qe = qe_pipeline(pt_dataset.get_topics('text')) #Bo1QueryExpansion\n",
    "# run_qe_2 = qe_pipeline_2(pt_dataset.get_topics('text')) #KLQueryExpansion\n",
    "# run_qe_3 = qe_pipeline_3(pt_dataset.get_topics('text')) #RM3\n",
    "# run_qe_4 = qe_pipeline_4(pt_dataset.get_topics('text')) #Bo1QueryExpansion 2x more terms\n",
    "\n",
    "# run_pipeline_gpt_cot = pipeline_gpt_cot(pt_dataset.get_topics('text'))\n",
    "# run_pipeline_gpt_sq_fs = pipeline_gpt_sq_fs(pt_dataset.get_topics('text'))\n",
    "run_pipeline_gpt_sq_zs = pipeline_gpt_sq_zs(pt_dataset.get_topics('text'))\n",
    "\n",
    "# run_pipeline_llama_cot = pipeline_llama_cot(pt_dataset.get_topics('text'))\n",
    "# run_pipeline_llama_sq_fs = pipeline_llama_sq_fs(pt_dataset.get_topics('text'))\n",
    "# run_pipeline_llama_sq_zs = pipeline_llama_sq_zs(pt_dataset.get_topics('text'))\n",
    "\n",
    "# run_pipeline_flan_cot = pipeline_flan_cot(pt_dataset.get_topics('text'))\n",
    "# run_pipeline_flan_sq_fs = pipeline_flan_sq_fs(pt_dataset.get_topics('text'))\n",
    "# run_pipeline_flan_sq_zs = pipeline_flan_sq_zs(pt_dataset.get_topics('text'))\n",
    "\n"
   ]
  },
  {
   "cell_type": "code",
   "execution_count": 17,
   "metadata": {},
   "outputs": [
    {
     "name": "stdout",
     "output_type": "stream",
     "text": [
      "The run file is normalized outside the TIRA sandbox, I will store it at \"../runs/qe_gpt_sq_fz\".\n",
      "Done. run file is stored under \"../runs/qe_gpt_sq_fz/run.txt\".\n"
     ]
    }
   ],
   "source": [
    "# persist_and_normalize_run(run_base, system_name='bm25-baseline', default_output='../runs/base')\n",
    "\n",
    "# persist_and_normalize_run(run_qe, system_name='query-expansion_Bo1QE', default_output='../runs/qe')\n",
    "# persist_and_normalize_run(run_qe_2, system_name='query-expansion_KLQE', default_output='../runs/qe_/2')\n",
    "# persist_and_normalize_run(run_qe_3, system_name='query-expansion_RM3', default_output='../runs/qe_3')\n",
    "# persist_and_normalize_run(run_qe_4, system_name='query-expansion_Bo1QEx2', default_output='../runs/qe_4')\n",
    "\n",
    "# persist_and_normalize_run(run_pipeline_gpt_cot, system_name='llm-query-expansion-gpt-cot', default_output='../runs/qe_gpt_cot')\n",
    "# persist_and_normalize_run(run_pipeline_gpt_sq_fs, system_name='llm-query-expansion-gpt-sq-fs', default_output='../runs/qe_gpt_sq_fs')\n",
    "persist_and_normalize_run(run_pipeline_gpt_sq_zs, system_name='llm-query-expansion-gpt-sq-zs', default_output='../runs/qe_gpt_sq_fz')\n",
    "\n",
    "# persist_and_normalize_run(run_pipeline_llama_cot, system_name='llm-query-expansion-llama-cot', default_output='../runs/llama_cot')\n",
    "# persist_and_normalize_run(run_pipeline_llama_sq_fs, system_name='llm-query-expansion-llama-sq-fs', default_output='../runs/llama_fs')\n",
    "# persist_and_normalize_run(run_pipeline_llama_sq_zs, system_name='llm-query-expansion-llama-sq-zs', default_output='../runs/llama_zs')\n",
    "\n",
    "# persist_and_normalize_run(run_pipeline_flan_cot, system_name='llm-query-expansion-flan-cot', default_output='../runs/flan_cot')\n",
    "# persist_and_normalize_run(run_pipeline_flan_sq_fs, system_name='llm-query-expansion-flan-sq-fs', default_output='../runs/flan_fs')\n",
    "# persist_and_normalize_run(run_pipeline_flan_sq_zs, system_name='llm-query-expansion-flan-sq-zs', default_output='../runs/flan_zs')\n",
    "\n"
   ]
  }
 ],
 "metadata": {
  "kernelspec": {
   "display_name": "Python 3",
   "language": "python",
   "name": "python3"
  },
  "language_info": {
   "codemirror_mode": {
    "name": "ipython",
    "version": 3
   },
   "file_extension": ".py",
   "mimetype": "text/x-python",
   "name": "python",
   "nbconvert_exporter": "python",
   "pygments_lexer": "ipython3",
   "version": "3.10.12"
  }
 },
 "nbformat": 4,
 "nbformat_minor": 2
}
